{
 "cells": [
  {
   "cell_type": "markdown",
   "id": "23d93f28",
   "metadata": {},
   "source": [
    "# AP1 - Ouvrir ses données avec MNE-Python\n",
    "\n",
    "## Introduction de l'activité\n",
    "À travers ces 4 activités pratiques, vous apprendrez à utiliser des outils de programmation pour traîter et d'analyser des données électrophysiologiques. Au terme de ces tutoriels, vous aurez exploré, nettoyé et analysé des données d'entraînement à l'aide de différentes approches communément utilisées en neurosciences cognitives.  \n",
    "Le premier de ces outils est [MNE-Python](https://mne.tools/stable/index.html), une librairie permettant la manipulation de jeux de données électrophysiologiques, incluant de la MEG, l'EEG, l'EEG intra-crânien et la polysomnographie (une combinaison d'EEG, d'ECG et d'EMG).\n",
    "\n",
    "MNE-Python est une sorte de couteau-suisse du traîtement de données cérébrales.\n",
    "![eeg_swissknife](https://i.ibb.co/y0Rnw9T/eeg-swissknfife.png)\n",
    "\n",
    "Ses objets permettent d'associer les données sous différentes formes à leur meta-data, c'est-à-dire aux informations complémentaires à l'enregistrement qui facilitent leur lecture. Chaque objet possède des [méthodes](https://docs.python.org/3/tutorial/classes.html#method-objects) qui lui sont propres, c'est-à-dire des fonctions qui s'appliquent sur ces objets pour les transformer ou pour tracer des graphiques afin de les explorer.\n",
    "\n",
    "\n",
    "Au cours de cette première activité, nous allons donc découvrir comment les données M/EEG sont courrament stockées et manipulées par MNE-Python et comment nous pouvons les explorer sommairement.\n"
   ]
  },
  {
   "cell_type": "markdown",
   "id": "b6d29300",
   "metadata": {},
   "source": [
    "## Imports\n",
    "\n",
    "Pour commencer, nous devons installer les librairies nécessaires. Si vous utilisez le notebook via Binder (en ligne), alors vous devez roulez la cellule suivante. Sinon, si vous roulez le notebook localement sur votre ordinateur, vous pouvez utiliser le fichier requirements.txt pour installer les librairies. Pour cela, activez votre environnement et faites  \n",
    "\n",
    "    pip install -r requirements.txt"
   ]
  },
  {
   "cell_type": "code",
   "execution_count": 1,
   "id": "86153295",
   "metadata": {
    "scrolled": true
   },
   "outputs": [
    {
     "name": "stdout",
     "output_type": "stream",
     "text": [
      "Requirement already satisfied: mne in /home/hyruuk/anaconda3/envs/PSY2008/lib/python3.9/site-packages (0.24.0)\n",
      "Requirement already satisfied: scipy>=1.1.0 in /home/hyruuk/anaconda3/envs/PSY2008/lib/python3.9/site-packages (from mne) (1.7.2)\n",
      "Requirement already satisfied: numpy>=1.15.4 in /home/hyruuk/anaconda3/envs/PSY2008/lib/python3.9/site-packages (from mne) (1.21.4)\n",
      "Requirement already satisfied: sklearn in /home/hyruuk/anaconda3/envs/PSY2008/lib/python3.9/site-packages (0.0)\n",
      "Requirement already satisfied: scikit-learn in /home/hyruuk/anaconda3/envs/PSY2008/lib/python3.9/site-packages (from sklearn) (1.0.1)\n",
      "Requirement already satisfied: numpy>=1.14.6 in /home/hyruuk/anaconda3/envs/PSY2008/lib/python3.9/site-packages (from scikit-learn->sklearn) (1.21.4)\n",
      "Requirement already satisfied: scipy>=1.1.0 in /home/hyruuk/anaconda3/envs/PSY2008/lib/python3.9/site-packages (from scikit-learn->sklearn) (1.7.2)\n",
      "Requirement already satisfied: threadpoolctl>=2.0.0 in /home/hyruuk/anaconda3/envs/PSY2008/lib/python3.9/site-packages (from scikit-learn->sklearn) (3.0.0)\n",
      "Requirement already satisfied: joblib>=0.11 in /home/hyruuk/anaconda3/envs/PSY2008/lib/python3.9/site-packages (from scikit-learn->sklearn) (1.1.0)\n",
      "Requirement already satisfied: matplotlib in /home/hyruuk/anaconda3/envs/PSY2008/lib/python3.9/site-packages (3.4.3)\n",
      "Requirement already satisfied: pillow>=6.2.0 in /home/hyruuk/anaconda3/envs/PSY2008/lib/python3.9/site-packages (from matplotlib) (8.4.0)\n",
      "Requirement already satisfied: numpy>=1.16 in /home/hyruuk/anaconda3/envs/PSY2008/lib/python3.9/site-packages (from matplotlib) (1.21.4)\n",
      "Requirement already satisfied: pyparsing>=2.2.1 in /home/hyruuk/anaconda3/envs/PSY2008/lib/python3.9/site-packages (from matplotlib) (3.0.4)\n",
      "Requirement already satisfied: kiwisolver>=1.0.1 in /home/hyruuk/anaconda3/envs/PSY2008/lib/python3.9/site-packages (from matplotlib) (1.3.2)\n",
      "Requirement already satisfied: cycler>=0.10 in /home/hyruuk/anaconda3/envs/PSY2008/lib/python3.9/site-packages (from matplotlib) (0.11.0)\n",
      "Requirement already satisfied: python-dateutil>=2.7 in /home/hyruuk/anaconda3/envs/PSY2008/lib/python3.9/site-packages (from matplotlib) (2.8.2)\n",
      "Requirement already satisfied: six>=1.5 in /home/hyruuk/anaconda3/envs/PSY2008/lib/python3.9/site-packages (from python-dateutil>=2.7->matplotlib) (1.16.0)\n"
     ]
    }
   ],
   "source": [
    "!pip install mne\n",
    "!pip install matplotlib\n",
    "!pip install pooch\n",
    "!pip install tqdm"
   ]
  },
  {
   "cell_type": "markdown",
   "id": "b0e9c001",
   "metadata": {},
   "source": [
    "Maintenant, importons mne. Pour ce tutoriel, nous importerons toute la librairie et nous utiliserons les noms des fonctions au complet afin de rendre explicite les différents modules de MNE."
   ]
  },
  {
   "cell_type": "code",
   "execution_count": 20,
   "id": "ba5646ce",
   "metadata": {},
   "outputs": [],
   "source": [
    "import mne\n",
    "import os.path as op\n",
    "\n",
    "# Pour activer les graphs interactifs, dé-commentez cette ligne et commentez la ligne au dessous\n",
    "#%matplotlib qt \n",
    "%matplotlib inline"
   ]
  },
  {
   "cell_type": "markdown",
   "id": "0fdbb4c9",
   "metadata": {},
   "source": [
    "## Charger les données"
   ]
  },
  {
   "cell_type": "markdown",
   "id": "4cfa222c",
   "metadata": {},
   "source": [
    "Différents formats de fichiers existent pour stocker les données électrophysiologiques. Ils peuvent être reconnus à leur extension, c'est à dire à la suite de caractères qui succède au . dans le nom du fichier. Chaque format a une différente manière de représenter les données et leurs méta-données, mais la plupart du temps, le fichier est composé d'un *header* (contenant les méta-données) et d'un *body*, contenant les données elles-mêmes (ex. les signaux mesurés sur les différents capteurs, le plus souvent accompagnées d'un canal encodant les évènements liés à l'expérience).  \n",
    "Certains formats sont plus courrants que d'autres, certains sont libres, certains sont propriétaires, mais tous ont leurs avantages et inconvénients. Généralement, chaque constructeur de M/EEG possède son propre format, mais heureusement MNE-Python a les moyens de lire la plupart d'entre eux. Quelques-uns des plus courrants sont :\n",
    "\n",
    "- EDF ou EDF+ (.edf) : [European Data Format(+)](https://www.edfplus.info/index.html). Format open source assez standard et versatile. Permet d'encoder des données EEG et MEG, et même EKG/EMG dans sa version étendue (+)\n",
    "- FIF (.fif) : ?. Alternative au format EDF avec à peu près les mêmes avantages, c'est le plus utilisé par MNE-Python. \n",
    "- SET (.set) : Format propre à [EEGLAB](https://sccn.ucsd.edu/eeglab/index.php), une autre librairie d'analyse M/EEG qui fonctionne sous Matlab.\n",
    "- CTF, CNT, BDF etc... : Autres formats. Mon conseil ce serait que "
   ]
  },
  {
   "cell_type": "code",
   "execution_count": 8,
   "id": "40a35297",
   "metadata": {},
   "outputs": [
    {
     "name": "stdout",
     "output_type": "stream",
     "text": [
      "Opening raw data file /home/hyruuk/mne_data/MNE-sample-data/MEG/sample/sample_audvis_raw.fif...\n",
      "    Read a total of 3 projection items:\n",
      "        PCA-v1 (1 x 102)  idle\n",
      "        PCA-v2 (1 x 102)  idle\n",
      "        PCA-v3 (1 x 102)  idle\n",
      "    Range : 25800 ... 192599 =     42.956 ...   320.670 secs\n",
      "Ready.\n",
      "Reading 0 ... 166799  =      0.000 ...   277.714 secs...\n"
     ]
    }
   ],
   "source": [
    "# Créé un path vers le dataset de tutoriel. \n",
    "# Le dataset sera téléchargé automatiquement lorsque le fichier sera appelé pour la première fois.\n",
    "data_path = op.join(mne.datasets.sample.data_path(), 'MEG',\n",
    "                    'sample', 'sample_audvis_raw.fif')\n",
    "\n",
    "# Charge les données et crée un objet mne.io.Raw()\n",
    "raw = mne.io.read_raw_fif(data_path, preload=True)"
   ]
  },
  {
   "cell_type": "markdown",
   "id": "e218810d",
   "metadata": {},
   "source": [
    "## Objet mne.io.Raw()\n",
    "\n",
    "Les objets Raw"
   ]
  },
  {
   "cell_type": "code",
   "execution_count": 15,
   "id": "0228beec",
   "metadata": {},
   "outputs": [
    {
     "name": "stdout",
     "output_type": "stream",
     "text": [
      "sample rate: 600.614990234375 Hz\n",
      "376 channels x 166800 samples\n"
     ]
    }
   ],
   "source": [
    "# Give the sample rate\n",
    "print('sample rate:', raw.info['sfreq'], 'Hz')\n",
    "# Give the size of the data matrix\n",
    "print('%s channels x %s samples' % (len(raw.ch_names), len(raw.times)))"
   ]
  },
  {
   "cell_type": "code",
   "execution_count": null,
   "id": "0782124a",
   "metadata": {},
   "outputs": [],
   "source": [
    "raw.plot();"
   ]
  },
  {
   "cell_type": "markdown",
   "id": "c6897d28",
   "metadata": {},
   "source": [
    "## Manipulation des données"
   ]
  },
  {
   "cell_type": "code",
   "execution_count": null,
   "id": "a2be85f1",
   "metadata": {},
   "outputs": [],
   "source": []
  },
  {
   "cell_type": "markdown",
   "id": "f375c9e0",
   "metadata": {},
   "source": [
    "## Objet mne.Epoch()"
   ]
  },
  {
   "cell_type": "code",
   "execution_count": null,
   "id": "d3ec55a1",
   "metadata": {},
   "outputs": [],
   "source": []
  },
  {
   "cell_type": "markdown",
   "id": "5f7a8ea8",
   "metadata": {},
   "source": [
    "## Objet mne.Evoked()"
   ]
  },
  {
   "cell_type": "code",
   "execution_count": null,
   "id": "92b5e81c",
   "metadata": {},
   "outputs": [],
   "source": []
  },
  {
   "cell_type": "markdown",
   "id": "59340b4e",
   "metadata": {},
   "source": [
    "## Standardiser son arborescence de fichiers\n",
    "### BIDS, Brain Imaging Data Structure\n",
    "\n"
   ]
  },
  {
   "cell_type": "code",
   "execution_count": null,
   "id": "13d2b3c3",
   "metadata": {},
   "outputs": [],
   "source": []
  }
 ],
 "metadata": {
  "kernelspec": {
   "display_name": "Python 3 (ipykernel)",
   "language": "python",
   "name": "python3"
  },
  "language_info": {
   "codemirror_mode": {
    "name": "ipython",
    "version": 3
   },
   "file_extension": ".py",
   "mimetype": "text/x-python",
   "name": "python",
   "nbconvert_exporter": "python",
   "pygments_lexer": "ipython3",
   "version": "3.9.7"
  }
 },
 "nbformat": 4,
 "nbformat_minor": 5
}
