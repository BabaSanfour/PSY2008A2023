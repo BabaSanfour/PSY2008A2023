{
 "cells": [
  {
   "cell_type": "markdown",
   "metadata": {},
   "source": [
    "# AP4 - Apprentissage machine et classification d'ondes cérébrales"
   ]
  },
  {
   "cell_type": "markdown",
   "metadata": {},
   "source": [
    "## Définition du problème\n",
    "\n",
    "Avant de se lancer directement dans les données, il faut déjà savoir quelles caractéristiques du signal on compte utiliser et choisir un modèle adapté.\n",
    "\n",
    "Tout les algorithmes d'apprentissage automatique ne sont pas égaux face à différents jeux de données. Par exemple, les forêts et arbres de classification sont plus efficaces sur des données avec beaucoup de caractéristiques que les SVM qui souffriront bien plus du fléau de la dimensionalité.\n",
    "\n",
    "Il faut aussi se demander si la quantité de données est suffisante pour l'hypothèse que l'on veut vérifier. Même si on peut parfois utiliser des tests statistiques pour valider un résultat obtenu avec peu de données. Comme en neuroscience, les données dont souvent coûteuses et donc souvent peu nombreuses il n'est pas rare de devoir avoir recours à de l'augmentation de données pour y pallier.\n",
    "\n",
    "Dans le cas présent, nous allons explorer différents designs pour essayer de résoudre différents problèmes sur un même jeu de données.\n",
    "\n",
    "Pour se faire, on va utiliser la librairie <a href=\"\">sklearn</a> qui va nous permettre d'utiliser certains algorithmes d'apprentissagge machine assez simplement."
   ]
  },
  {
   "cell_type": "markdown",
   "metadata": {},
   "source": [
    "### Installation des librairies nécessaires:"
   ]
  },
  {
   "cell_type": "code",
   "execution_count": 1,
   "metadata": {
    "scrolled": true
   },
   "outputs": [
    {
     "name": "stdout",
     "output_type": "stream",
     "text": [
      "Requirement already satisfied: sklearn in /home/arthur/.pyenv/versions/3.9.0/lib/python3.9/site-packages (0.0)\n",
      "Requirement already satisfied: numpy in /home/arthur/.pyenv/versions/3.9.0/lib/python3.9/site-packages (1.21.2)\n",
      "Requirement already satisfied: matplotlib in /home/arthur/.pyenv/versions/3.9.0/lib/python3.9/site-packages (3.4.1)\n",
      "Requirement already satisfied: mne in /home/arthur/.pyenv/versions/3.9.0/lib/python3.9/site-packages (0.23.2)\n",
      "Requirement already satisfied: scikit-learn in /home/arthur/.pyenv/versions/3.9.0/lib/python3.9/site-packages (from sklearn) (1.0.1)\n",
      "Requirement already satisfied: kiwisolver>=1.0.1 in /home/arthur/.local/lib/python3.9/site-packages (from matplotlib) (1.3.1)\n",
      "Requirement already satisfied: pillow>=6.2.0 in /home/arthur/.pyenv/versions/3.9.0/lib/python3.9/site-packages (from matplotlib) (8.4.0)\n",
      "Requirement already satisfied: python-dateutil>=2.7 in /home/arthur/.pyenv/versions/3.9.0/lib/python3.9/site-packages (from matplotlib) (2.8.2)\n",
      "Requirement already satisfied: cycler>=0.10 in /home/arthur/.local/lib/python3.9/site-packages (from matplotlib) (0.10.0)\n",
      "Requirement already satisfied: pyparsing>=2.2.1 in /home/arthur/.pyenv/versions/3.9.0/lib/python3.9/site-packages (from matplotlib) (2.4.7)\n",
      "Requirement already satisfied: scipy>=1.1.0 in /home/arthur/.pyenv/versions/3.9.0/lib/python3.9/site-packages (from mne) (1.7.3)\n",
      "Requirement already satisfied: six in /home/arthur/.pyenv/versions/3.9.0/lib/python3.9/site-packages (from cycler>=0.10->matplotlib) (1.16.0)\n",
      "Requirement already satisfied: threadpoolctl>=2.0.0 in /home/arthur/.pyenv/versions/3.9.0/lib/python3.9/site-packages (from scikit-learn->sklearn) (3.0.0)\n",
      "Requirement already satisfied: joblib>=0.11 in /home/arthur/.pyenv/versions/3.9.0/lib/python3.9/site-packages (from scikit-learn->sklearn) (1.1.0)\n"
     ]
    }
   ],
   "source": [
    "!pip install sklearn numpy matplotlib mne"
   ]
  },
  {
   "cell_type": "markdown",
   "metadata": {},
   "source": [
    "### Imports"
   ]
  },
  {
   "cell_type": "code",
   "execution_count": 2,
   "metadata": {},
   "outputs": [],
   "source": [
    "import os.path as op\n",
    "import numpy as np\n",
    "from matplotlib import pyplot as plt\n",
    "\n",
    "%matplotlib inline"
   ]
  },
  {
   "cell_type": "markdown",
   "metadata": {},
   "source": [
    "## Classification gauche-droite\n",
    "\n",
    "Premièrement nous allons nous intéresser à effectuer une classification de nos données qui nous permettra de détecter si le sujet à entendu un stimulus à gauche ou bien à droite. Dans une approche guidée par les données (data driven), nous n'allons pas émetre d'hypothèse au préalable sur les résultats. \n",
    "\n",
    "On va, pour chaque capteur, essayer de faire la différence entre stimulus gauche et stimulus droit, en utilisant les valeurs de PSD calculées dans l'AP3."
   ]
  },
  {
   "cell_type": "markdown",
   "metadata": {},
   "source": [
    "### Chargement des données\n",
    "\n",
    "Les classifications sont des méthodes d'apprentissage machine dites supervisées et nécessitent l'utilisation de deux matrices:\n",
    "- une matrice data souvent appelée X, qui contient les données que l'on va utiliser pour l'apprentissage et le test de l'algorithme d'apprentissage machine.\n",
    "- Une matrice \"labels\" ou \"targets\" souvent appelée y, qui contient l'information que l'on souhaite prédire encodée en chiffres.\n",
    "\n",
    "Dans notre exemple, comme nous souhaitons classifier entre stimulus gauche ou droite, on va arbitrairement associer 0 ou 1 à chacune de nos classes. Par exemple: 0 <=> gauche ; 1 <=> droite."
   ]
  },
  {
   "cell_type": "code",
   "execution_count": 3,
   "metadata": {},
   "outputs": [],
   "source": [
    "conditions = ['visualleft', 'visualright']\n",
    "data_path = mne.datasets.sample.data_path()\n",
    "data = []\n",
    "targets = []\n",
    "for i, condition in enumerate(conditions):\n",
    "    temp_data = np.load(op.join(data_path, 'MEG', 'sample', f'{condition}_psds_bands.npy'))\n",
    "    targets += [i]*temp_data.shape[1]\n",
    "    data.append(temp_data)\n",
    "\n",
    "X = np.concatenate(data, axis=1)\n",
    "y = np.array(targets)"
   ]
  },
  {
   "cell_type": "markdown",
   "metadata": {},
   "source": [
    "### Choix de l'algorithme\n",
    "\n",
    "Pour commencer, nous allons utiliser K Nearest Neighbors (KNN). Un algorithms simple, rapide en exécution qui possède un seul hyper-paramètre.\n",
    "\n",
    "Dans un premier temps, on va évaluer les performances de l'algorithme sans se soucier d'optimiser les hyper-paramètres, mais on reviendra sur ce concept plus tard."
   ]
  },
  {
   "cell_type": "code",
   "execution_count": 4,
   "metadata": {},
   "outputs": [],
   "source": [
    "from sklearn.neighbors import KNeighborsClassifier as KNN\n",
    "\n",
    "clf = KNN()"
   ]
  },
  {
   "cell_type": "markdown",
   "metadata": {},
   "source": [
    "### Choix de la méthode de validation\n",
    "\n",
    "Il nous faut maintenant choisir une méthode qui nous permettra de mieux évaluer les performances de notre algorithme. Le choix de cette méthode est important car si la méthode de validation est mal choisie, elle pourrait impacter nos résultats. \n",
    "\n",
    "Cette méthode va dicter la façon dont on va séparer nos données afin d'entraîner notre algorithme sur une partie et de tester sur une autre. Elle est nécessaire car sans elle, nous ne pourrions pas controller le sur-apprentissage (overfitting).\n",
    "\n",
    "La méthode la plus simple qui existe est de séparer nos données en deux partie: entraînement (train) et validation ou test ce que l'on appelle la \"Holdout method\":\n",
    "\n",
    "#### Holdout method\n",
    "\n",
    "Coupons arbitrairemement les données en 2:"
   ]
  },
  {
   "cell_type": "code",
   "execution_count": 5,
   "metadata": {},
   "outputs": [],
   "source": [
    "X_train = X[:72]\n",
    "y_train = y[:72]\n",
    "\n",
    "X_test = X[72:]\n",
    "y_test = y[72:]"
   ]
  },
  {
   "cell_type": "markdown",
   "metadata": {},
   "source": [
    "Immédiatement, si on affiche les labels de nos données on se rend compte d'un problème: notre sous-ensemble d'etraaînement ne contient que des exemples de stimuli à gauche et sera donc incapable d'apprendre comment différentier droite de gauche!"
   ]
  },
  {
   "cell_type": "code",
   "execution_count": 6,
   "metadata": {
    "scrolled": true
   },
   "outputs": [
    {
     "name": "stdout",
     "output_type": "stream",
     "text": [
      "[0 0 0 0 0 0 0 0 0 0 0 0 0 0 0 0 0 0 0 0 0 0 0 0 0 0 0 0 0 0 0 0 0 0 0 0 0\n",
      " 0 0 0 0 0 0 0 0 0 0 0 0 0 0 0 0 0 0 0 0 0 0 0 0 0 0 0 0 0 0 0 0 0 0 0]\n"
     ]
    }
   ],
   "source": [
    "print(y_train)"
   ]
  },
  {
   "cell_type": "markdown",
   "metadata": {},
   "source": [
    "Il nous faut donc prendre au hasard des exemples du jeu de données initial ou encore le mélanger avant de tirer les exemples.\n",
    "\n",
    "Pour ce faire, on créé un index des données sur lequel on va effectuer le mélange afin de pouvoir effectuer exactement le même mélamge sur les labels. Sans quoi on perdrait la correspondance entre exemple et sa catégorie:"
   ]
  },
  {
   "cell_type": "code",
   "execution_count": 7,
   "metadata": {},
   "outputs": [
    {
     "name": "stdout",
     "output_type": "stream",
     "text": [
      "[1 1 0 1 1 1 0 0 1 0 0 1 1 0 0 1 1 0 0 0 1 1 0 1 0 1 1 0 1 1 0 0 0 0 1 0 1\n",
      " 0 1 1 0 1 1 1 1 0 0 1 0 0 0 0 0 1 1 0 0 1 1 1 0 0 0 1 1 1 1 1 1 1 0 0]\n"
     ]
    }
   ],
   "source": [
    "# Création de l'index:\n",
    "index = np.arange(X.shape[1])\n",
    "\n",
    "# mélange de l'index:\n",
    "np.random.shuffle(index)\n",
    "\n",
    "# On applique le mélange aux données et aux labels:\n",
    "shuffled_X = X[:,index]\n",
    "shuffled_y = y[index]\n",
    "\n",
    "# On effectue notre séparation (split) à nouveau:\n",
    "X_train = shuffled_X[:,:72]\n",
    "y_train = shuffled_y[:72]\n",
    "\n",
    "X_test = shuffled_X[:,72:]\n",
    "y_test = shuffled_y[72:]\n",
    "\n",
    "# Affichons à nouveau nos labels d'entraînement pour vérifier:\n",
    "print(y_train)"
   ]
  },
  {
   "cell_type": "markdown",
   "metadata": {},
   "source": [
    "En pratique, sklearn implémente des fonctions qui vont permettre de faciliter ce travai:"
   ]
  },
  {
   "cell_type": "code",
   "execution_count": 8,
   "metadata": {},
   "outputs": [
    {
     "name": "stdout",
     "output_type": "stream",
     "text": [
      "[0 1 1 0 0 1 0 1 0 0 0 1 1 1 1 0 0 1 1 0 0 0 0 1 0 1 0 1 0 0 1 0 1 0 1 1 1\n",
      " 1 0 0 1 0 1 1 0 0 1 0 1 0 0 1 0 0 1 1 0 0 1 1 1 1 1 1 1 1 0 0 1 0 1 1]\n"
     ]
    }
   ],
   "source": [
    "from sklearn.model_selection import train_test_split\n",
    "\n",
    "X_train, X_test, y_train, y_test = train_test_split(X.swapaxes(0,1), y, test_size=72, random_state=42)\n",
    "X_train = X_train.swapaxes(0,1)\n",
    "X_test = X_test.swapaxes(0,1)\n",
    "\n",
    "print(y_train)"
   ]
  },
  {
   "cell_type": "markdown",
   "metadata": {},
   "source": [
    "<b>Note</b>: Ici on est obligé d'utiliser <a href=\"https://numpy.org/doc/stable/reference/generated/numpy.swapaxes.html\">swapaxes</a> car il faut que la première dimension de nos données soit la dimension qui liste les exemples. Or actuellement, la première dimentsion est la dimension des électrodes.\n",
    "\n",
    "<b>Note</b>2: Étant donné que le mélange des données est aléatoire, il est toujours possible par malchance d'avoir un split qui favorise une classe dans X_train et y_train, cela peut être contrôlé en utilisant une option de la fonction. Voir la <a href=\"https://scikit-learn.org/stable/modules/generated/sklearn.model_selection.train_test_split.html\">doc</a>\n",
    "\n",
    "<b>Note</b>3: On obtient un mélange différent à chaque exécution du code. Le mélange peut être controllé si on désire pouvoir reproduire exactement la même expérience en fixant un \"random_state\". Voir <a href=\"https://scikit-learn.org/stable/modules/generated/sklearn.model_selection.train_test_split.htm\">doc</a>"
   ]
  },
  {
   "cell_type": "markdown",
   "metadata": {},
   "source": [
    "Évaluons maintenant les performances de notre modèle sur notre problème. Ce qui nous intéresse, c'est de savoir quelle(s) électrode(s) permet le mieux de faire la différence entre stimuli gauche ou droite. Intéressons nous d'abord par la première de la liste."
   ]
  },
  {
   "cell_type": "code",
   "execution_count": 9,
   "metadata": {},
   "outputs": [],
   "source": [
    "electrode = 0"
   ]
  },
  {
   "cell_type": "markdown",
   "metadata": {},
   "source": [
    "Entraînons le modèle sur le dataset d'entraînement:"
   ]
  },
  {
   "cell_type": "code",
   "execution_count": 10,
   "metadata": {},
   "outputs": [
    {
     "data": {
      "text/plain": [
       "KNeighborsClassifier()"
      ]
     },
     "execution_count": 10,
     "metadata": {},
     "output_type": "execute_result"
    }
   ],
   "source": [
    "clf.fit(X_train[electrode], y_train)"
   ]
  },
  {
   "cell_type": "markdown",
   "metadata": {},
   "source": [
    "Et utilisons le modèle entraîné pour prédire les classes du dataset de test:"
   ]
  },
  {
   "cell_type": "code",
   "execution_count": 11,
   "metadata": {},
   "outputs": [
    {
     "name": "stdout",
     "output_type": "stream",
     "text": [
      "[0 0 1 1 1 1 1 0 1 0 1 0 1 1 1 1 1 0 0 0 0 1 1 0 1 0 0 1 0 1 0 0 1 0 0 0 1\n",
      " 0 0 0 1 1 0 0 1 0 0 1 0 0 1 1 0 1 1 0 1 1 0 1 1 0 1 0 0 1 0 0 0 1 1 1]\n"
     ]
    }
   ],
   "source": [
    "y_pred = clf.predict(X_test[electrode])\n",
    "print(y_pred)"
   ]
  },
  {
   "cell_type": "markdown",
   "metadata": {},
   "source": [
    "Pour mesurer les performances de notre algorithme nous pouvons simplement calculer son erreur et sa précision: pour ce faire, il suffit de calculer erreur = Somme(valeur_absolue(y_pred - y_test)) / nombre_de_predictions\n",
    "\n",
    "puis accuracy = 1 - erreur"
   ]
  },
  {
   "cell_type": "code",
   "execution_count": 12,
   "metadata": {
    "scrolled": true
   },
   "outputs": [
    {
     "name": "stdout",
     "output_type": "stream",
     "text": [
      "0.5138888888888888\n"
     ]
    }
   ],
   "source": [
    "error = sum(abs(y_pred - y_test)) / len(y_pred)\n",
    "accuracy = 1 - error\n",
    "print(accuracy)"
   ]
  },
  {
   "cell_type": "markdown",
   "metadata": {},
   "source": [
    "Notre score est de 45.8% de précision (accuracy). Il existe d'autres mesures de performance du modèle, mais dans notre cas, la précision est adaptée.\n",
    "\n",
    "Comme notre problème est un problème de classification binaire, le niveau de chance théorique est à 50%, cela veut dire que notre résultat est juste en dessous du niveau de chance et donc, que notre modèle n'est probablement pas capable de faire la différence entre stimulus gauche et droite avec ces caractéristiques du signal là à cette électrode là. \n",
    "\n",
    "Cependant, étant donné que nous avons un petit nombre de données, le niveau de chance théorique n'est pas le niveau de chance auquel on devrait comparer les performances de notre modèle. Il faut vérifier la pertinence statistique de ce résultat. Nous reviendrons sur cette partie plus tard.\n",
    "\n",
    "Pour voir plus de métriques de performances, voir <a href=\"https://en.wikipedia.org/wiki/Fairness_(machine_learning)\">ici</a>\n",
    "\n",
    "Encore une fois, en pratique il est beaucoup plus simple d'utiliser directement une fonction donnée par sklearn pour calculer la précision de notre modèle:"
   ]
  },
  {
   "cell_type": "code",
   "execution_count": 13,
   "metadata": {
    "scrolled": true
   },
   "outputs": [
    {
     "name": "stdout",
     "output_type": "stream",
     "text": [
      "0.5138888888888888\n"
     ]
    }
   ],
   "source": [
    "score = clf.score(X_test[electrode], y_test)\n",
    "print(score)"
   ]
  },
  {
   "cell_type": "markdown",
   "metadata": {},
   "source": [
    "Il ne nous reste donc plus qu'à répéter ces dernières opérations pour chaque électrode et de vérifier la pertinence statistique de nos résultats.\n",
    "\n",
    "Seulement, le problème de la \"Holdout method\" est que si on l'utilise sur un petit jeu de données, il est possible que cette séparation nous avantage ou désavantage dans l'évalutation des performances de notre algorithme par chance uniquement. Pour remédier à celà, on utilise des méthodes de \"cross-validation\". Une cross-validation va répéter le processus de découpage des donées plusieurs fois afin de limiter l'impact du facteur chance au minimum."
   ]
  },
  {
   "cell_type": "markdown",
   "metadata": {},
   "source": [
    "### Cross-validation: K-Fold\n",
    "\n",
    "Voilà quelques méthodes de cross-validation communes:\n",
    "- Leave One Out (LOO)\n",
    "- Leave P Out (LPO)\n",
    "- K-Fold\n",
    "\n",
    "LOO consiste à laisser de côté un seul exemple de notre jeu de données pour le test et de garder tout le reste pour l'entraînement. Bien que cette méthode permette de mesurer avec précision la performance d'un algorithme, elle est rarement utilisée en pratique. En effet, cette méthode est exhaustive, ce qui veut dire qu'elle va essayer toutes les combinaisons prossibles de train et de test sets. Ce n'est pas un problème dans notre cas vu que notre jeu de données est relativement petit (seulement 140 exemples), mais cela peut devenir un problème quand on possède des millions d'exemples et que effectuer l'entrainement et le test de l'algorithme prend un certain temps.\n",
    "\n",
    "LPO est basée sur le même principe que LOO et est exhaustive. Cette méthode à l'avantage de tester sur plusieurs exemples au lieu d'un à chauque itération et est donc encore plus précise, mais elle souffre encore plus d'une augmentation de la taille des données, vu qu'il y a encore plus de combinaisons de p parmis n que de 1 parmis n.\n",
    "\n",
    "K-fold consiste à couper les données en K sous-parties, de combiner K-1 sous parties pour constituer le train set et d'utiliser la dernière sous partie comme test set. Cette méthode est souvent préférée puisque beaucoup plus rapide que les précédentes quand on à accès à beaucoup de données tout en donnant une idée acceptable de la performance de l'algorithme.\n",
    "\n",
    "Nous allons utiliser K-Fold puisque cette méthode est plus rapide tout en restant adaptée à notre problème.\n",
    "En pratique on utilise la verison \"stratifiée\" de K-Fold afin de s'asurer que chacune des sous-parties du dataset contient bien autant d'exemples de chaque condition. Sans cela, il serait possible par malchance d'avoir quelques sous-parties des données qui ne contiennent qu'une conditon, ce qui fausserai les résultats.\n",
    "\n",
    "On va choisir la valeur par défaut K = n_splits = 5, qui nous permettra d'avoir 5 scores de précision de notre algorithme entrainé sur K-1 = 4 / 5 = 80% de nos données et testé sur les 1/5 = 20% restantes."
   ]
  },
  {
   "cell_type": "code",
   "execution_count": 14,
   "metadata": {},
   "outputs": [],
   "source": [
    "from sklearn.model_selection import StratifiedKFold as SKFold\n",
    "\n",
    "cv = SKFold(n_splits=5)"
   ]
  },
  {
   "cell_type": "markdown",
   "metadata": {},
   "source": [
    "Concrètement, ce que cette méthode va faire, c'est effectuer plusieures fois le train/test split que nous avons effectué plus haut manuellement.\n",
    "\n",
    "De cette façon, au lieu d'obtenir un score unique de précision pour une électrode, on peut en obtenir plusieurs et les moyenner afin d'avoir un résultat plus robuste. \n",
    "\n",
    "Si on effectue une étape de cross-validation avec notre objet cv, on peut reproduire ce qu'on a fait plus haut:"
   ]
  },
  {
   "cell_type": "code",
   "execution_count": 15,
   "metadata": {
    "scrolled": true
   },
   "outputs": [
    {
     "data": {
      "text/plain": [
       "0.3103448275862069"
      ]
     },
     "execution_count": 15,
     "metadata": {},
     "output_type": "execute_result"
    }
   ],
   "source": [
    "train_index, test_index = next(cv.split(X[electrode], targets))\n",
    "X_train = X[electrode][train_index]\n",
    "y_train = y[train_index]\n",
    "X_test = X[electrode][test_index]\n",
    "y_test = y[test_index]\n",
    "\n",
    "clf = KNN()\n",
    "clf.fit(X_train, y_train)\n",
    "clf.score(X_test, y_test)"
   ]
  },
  {
   "cell_type": "markdown",
   "metadata": {},
   "source": [
    "On veut reproduire la cellule précédente pour chaque sous-set de données, il faut juste enregistrer les résultats dans une liste au fur et à mesure:"
   ]
  },
  {
   "cell_type": "code",
   "execution_count": 16,
   "metadata": {},
   "outputs": [
    {
     "name": "stdout",
     "output_type": "stream",
     "text": [
      "[0.3103448275862069, 0.3793103448275862, 0.5172413793103449, 0.41379310344827586, 0.5357142857142857]\n"
     ]
    }
   ],
   "source": [
    "scores = []\n",
    "for train_index, test_index in cv.split(X[electrode], y):\n",
    "    X_train = X[electrode][train_index]\n",
    "    y_train = y[train_index]\n",
    "    X_test = X[electrode][test_index]\n",
    "    y_test = y[test_index]\n",
    "    \n",
    "    clf = KNN()\n",
    "    clf.fit(X_train, y_train)\n",
    "    scores.append(clf.score(X_test, y_test))\n",
    "\n",
    "print(scores)"
   ]
  },
  {
   "cell_type": "markdown",
   "metadata": {},
   "source": [
    "On obtient bien 5 scores, pour les 5 splits que nous avions paramétrés dans l'objet cross-validation.\n",
    "\n",
    "On remarque ici que en fonction du split, le score de précision de notre modèle varie beaucoup ! On se rend compte aussi que nous avions eu de la chance avec notre précédent score de 45.8% et que nous avons bien fait de changer de méthode de validation. Il faut noter aussi que la taille du train set était différente dans notre précédente expérience avec la Holdout method, ce qui peut avoir un impact sur le score final du modèle.\n",
    "\n",
    "Calculons le score de précision moyen de notre modèle pour la première électrode:"
   ]
  },
  {
   "cell_type": "code",
   "execution_count": 17,
   "metadata": {},
   "outputs": [
    {
     "name": "stdout",
     "output_type": "stream",
     "text": [
      "0.43128078817733984\n"
     ]
    }
   ],
   "source": [
    "score_moyen = np.mean(scores)\n",
    "print(score_moyen)"
   ]
  },
  {
   "cell_type": "markdown",
   "metadata": {},
   "source": [
    "Notre score moyen est bien en dessous du niveau de chance ! On peut presque conclure que cette électrode ne capture pas d'informations pertinentes pour faire la différence entre stimulus gauche ou droite.\n",
    "\n",
    "Pour aller plus loin dans notre analyse, il faut maintenant calculer la précision de notre modèle pour chaque électrode, mais avant, nous allons utiliser une fonction plus haut niveau de sklearn qui va nous permettre de simplifier notre code puisqu'elle permet d'effectuer la cross-validation en une seule ligne:"
   ]
  },
  {
   "cell_type": "code",
   "execution_count": 18,
   "metadata": {},
   "outputs": [
    {
     "name": "stdout",
     "output_type": "stream",
     "text": [
      "0.43128078817733984\n"
     ]
    }
   ],
   "source": [
    "from sklearn.model_selection import cross_val_score\n",
    "\n",
    "clf = KNN()\n",
    "cv = SKFold(n_splits=5)\n",
    "scores = cross_val_score(clf, X[electrode], y, cv=cv)\n",
    "print(np.mean(scores))"
   ]
  },
  {
   "cell_type": "markdown",
   "metadata": {},
   "source": [
    "On peut maintenant calculer le score de précision de notre modèle sur ces données pour chaque électrode:"
   ]
  },
  {
   "cell_type": "code",
   "execution_count": 19,
   "metadata": {},
   "outputs": [],
   "source": [
    "n_elec = len(X)\n",
    "\n",
    "scores_elec = []\n",
    "for electrode in range(n_elec):\n",
    "    clf = KNN()\n",
    "    cv = SKFold(n_splits=5)\n",
    "    scores = cross_val_score(clf, X[electrode], y, cv=cv)\n",
    "    scores_elec.append(np.mean(scores))\n",
    "    \n",
    "scores_elec = np.array(scores_elec)"
   ]
  },
  {
   "cell_type": "markdown",
   "metadata": {},
   "source": [
    "Visualisons les résultats que l'on a obtenu sur une topomap:"
   ]
  },
  {
   "cell_type": "code",
   "execution_count": 20,
   "metadata": {},
   "outputs": [
    {
     "name": "stdout",
     "output_type": "stream",
     "text": [
      "Opening raw data file /home/arthur/mne_data/MNE-sample-data/MEG/sample/sample_audvis_raw.fif...\n",
      "    Read a total of 3 projection items:\n",
      "        PCA-v1 (1 x 102)  idle\n",
      "        PCA-v2 (1 x 102)  idle\n",
      "        PCA-v3 (1 x 102)  idle\n",
      "    Range : 25800 ... 192599 =     42.956 ...   320.670 secs\n",
      "Ready.\n"
     ]
    },
    {
     "data": {
      "image/png": "[encoded data removed]",
      "text/plain": [
       "<Figure size 432x288 with 2 Axes>"
      ]
     },
     "metadata": {
      "needs_background": "light"
     },
     "output_type": "display_data"
    }
   ],
   "source": [
    "import mne\n",
    "from mne.viz import plot_topomap\n",
    "\n",
    "# Chargement des données de potition des capteurs:\n",
    "data_path = mne.datasets.sample.data_path()\n",
    "raw = mne.io.read_raw_fif(\n",
    "    op.join(data_path, 'MEG', 'sample', 'sample_audvis_raw.fif'), preload=False)\n",
    "info = raw.pick_types(meg='mag').info\n",
    "\n",
    "# Création et affichage de la topomap:\n",
    "fig, ax = plt.subplots()\n",
    "im, cn = plot_topomap(\n",
    "    scores_elec,\n",
    "    info,\n",
    "    res=128,\n",
    "    cmap=\"viridis\",\n",
    "    vmax=.85,\n",
    "    vmin=.50,\n",
    "    show=False,\n",
    "    show_names=False,\n",
    "    contours=1,\n",
    "    extrapolate=\"head\",\n",
    ")\n",
    "cb = fig.colorbar(im)\n"
   ]
  },
  {
   "cell_type": "markdown",
   "metadata": {},
   "source": [
    "On remarque qu'il semble que l'on aurait de bons résultats dans l'ère occiptiale. Il n'est pas encore possible de conclure avand d'avoir effectué des tests statistiques, même si ces résultats sont une bonne indication que tout a bien fonctionné. Voyons donc quel est notre plus haut score:"
   ]
  },
  {
   "cell_type": "code",
   "execution_count": 21,
   "metadata": {},
   "outputs": [
    {
     "name": "stdout",
     "output_type": "stream",
     "text": [
      "0.8334975369458126\n"
     ]
    }
   ],
   "source": [
    "print(max(scores_elec))"
   ]
  },
  {
   "cell_type": "markdown",
   "metadata": {},
   "source": [
    "Avant d'effectuer des tests statistiques, nous allons créer une matrice de confusion pour voir si on peut avoir des informations supplémentaires sur l'électrode sur laquelle notre modèle obtient des meilleures performances."
   ]
  },
  {
   "cell_type": "code",
   "execution_count": 22,
   "metadata": {
    "scrolled": true
   },
   "outputs": [
    {
     "data": {
      "image/png": "[encoded data removed]",
      "text/plain": [
       "<Figure size 432x288 with 2 Axes>"
      ]
     },
     "metadata": {
      "needs_background": "light"
     },
     "output_type": "display_data"
    }
   ],
   "source": [
    "# Obtenir l'index de l'électrode qui donne la meilleure précision:\n",
    "best = np.argmax(scores_elec)\n",
    "\n",
    "# création des données nécessaires pour la matrice de confusion, \n",
    "# il nous faut les prédictions et les labels originaux de tous nos splits de K-Fold:\n",
    "cv = SKFold(n_splits=5)\n",
    "y_true, y_pred = [], []\n",
    "for train_index, test_index in cv.split(X[best], y):\n",
    "    X_train = X[best][train_index]\n",
    "    y_train = y[train_index]\n",
    "    X_test = X[best][test_index]\n",
    "    y_test = y[test_index]\n",
    "    \n",
    "    clf = KNN()\n",
    "    clf.fit(X_train, y_train)\n",
    "    y_pred += list(clf.predict(X_test)) # additionner des listes revient à les concaténer\n",
    "    y_true += list(y_test)\n",
    "\n",
    "# import de la fonction confusion_matrix de sklearn:\n",
    "from sklearn.metrics import ConfusionMatrixDisplay as CM\n",
    "\n",
    "# utilisation de la fonction:\n",
    "CM.from_predictions(y_pred, y_true)\n",
    "plt.show()"
   ]
  },
  {
   "cell_type": "markdown",
   "metadata": {},
   "source": [
    "On ne remarque pas d'imbalance particulière dans la matrice de confusion. La matrice de confusion donne des informations supplémentaires quant à la spécificité et la sensibilité du modèle. Pour en savoir plus, cliquez [ici](https://fr.wikipedia.org/wiki/Sensibilit%C3%A9_et_sp%C3%A9cificit%C3%A9)\n",
    "\n",
    "### Tests statistiques\n",
    "\n",
    "En science des données il est généralement recommandé d'avoir un grand nombre de données pour pouvoir mieux modéliser et comprendre un phénomène. Malheureusement dans les sciences médicales, les données sont souvent rares et chères. Pour pallier ce problème, on peut utiliser des tests statistiques qui vont nous permettre de prouver que notre résultat n'est pas le produit de la chance.\n",
    "\n",
    "Une première approche est plus théorique et repose sur la loi binomiale, qui permet d'évaluer la probabilité d'effectuer une série spécifique d'évènement pour une variable aléatoire avec une densité de probabilité donnée. Par exemple, cette loi permet de calculer la probabilité de n'obtenir qu'une seule fois face dans une série de N tirages à pile ou face.\n",
    "Comme nous effectuons une classification binaire, nous pourrions utiliser cette loi afin de savoir à quel point il est rare d'obtenir notre précision maximale de 83% si nous tirions à pile ou face les conditions pour chaque exemple de notre jeu de données.\n",
    "\n",
    "Une autre méthode plus pratique consiste à effectuer des permutations de nos labels y afin de voir combien de fois il est possible d'obtenir notre résultat avec notre modèle uniquement par la chance. \n",
    "\n",
    "Nous allons nous concentrer sur la deuxième méthode qui est plus fiable et intuitive, mais prend aussi plus de temps à calculer. En pratique, plus le nombre de permutations est grand, plus on pourra affirmer que notre résultat est fiable. Dans le cadre de ce tutoriel nous n'allons effectuer que 100 permutations pour pouvoir voir nos résultats avant que le soleil ne s'éteigne."
   ]
  },
  {
   "cell_type": "markdown",
   "metadata": {},
   "source": [
    "### Tests statistiques\n",
    "\n",
    "En science des données il est généralement recommandé d'avoir un grand nombre de données pour pouvoir mieux modéliser et comprendre un phénomène. Malheureusement dans les sciences médicales, les données sont souvent rares et chères. Pour pallier ce problème, on peut utiliser des tests statistiques qui vont nous permettre de prouver que notre résultat n'est pas le produit de la chance.\n",
    "\n",
    "Une première approche est plus théorique et repose sur la loi binomiale, qui permet d'évaluer la probabilité d'effectuer une série spécifique d'évènement pour une variable aléatoire avec une densité de probabilité donnée. Par exemple, cette loi permet de calculer la probabilité de n'obtenir qu'une seule fois face dans une série de N tirages à pile ou face.\n",
    "Comme nous effectuons une classification binaire, nous pourrions utiliser cette loi afin de savoir à quel point il est rare d'obtenir notre précision maximale de 83% si nous tirions à pile ou face les conditions pour chaque exemple de notre jeu de données.\n",
    "\n",
    "Une autre méthode plus pratique consiste à effectuer des permutations de nos labels y afin de voir combien de fois il est possible d'obtenir notre résultat avec notre modèle uniquement par la chance. \n",
    "\n",
    "Nous allons nous concentrer sur la deuxième méthode qui est plus fiable et intuitive, mais prend aussi plus de temps à calculer. En pratique, plus le nombre de permutations est grand, plus on pourra affirmer que notre résultat est fiable. Dans le cadre de ce tutoriel nous n'allons effectuer que 100 permutations pour pouvoir voir nos résultats avant que le soleil ne s'éteigne."
   ]
  },
  {
   "cell_type": "code",
   "execution_count": 23,
   "metadata": {},
   "outputs": [],
   "source": [
    "# reprenons d'abord notre code précédent, qu'il faudra exécuter 100 fois en mélangeant à chaque fois les labels y.\n",
    "n_permutations = 100\n",
    "perm_scores = []\n",
    "for i in range(n_permutations-1):\n",
    "    n_elec = len(X)\n",
    "\n",
    "    pscores_elec = []\n",
    "    for electrode in range(n_elec):\n",
    "        clf = KNN()\n",
    "        cv = SKFold(n_splits=5)\n",
    "        np.random.shuffle(y) # ici on mélange les labels\n",
    "        pscores = cross_val_score(clf, X[electrode], y, cv=cv)\n",
    "        pscores_elec.append(np.mean(pscores))\n",
    "        \n",
    "    perm_scores.append(np.array(pscores_elec))\n",
    "perm_scores = np.array(perm_scores)"
   ]
  },
  {
   "cell_type": "markdown",
   "metadata": {},
   "source": [
    "Affichons les performances de notre modèle afin de mieux voir notre niveau de chance pour notre meilleure électrode."
   ]
  },
  {
   "cell_type": "code",
   "execution_count": 24,
   "metadata": {
    "scrolled": true
   },
   "outputs": [
    {
     "data": {
      "image/png": "[encoded data removed]",
      "text/plain": [
       "<Figure size 432x288 with 1 Axes>"
      ]
     },
     "metadata": {
      "needs_background": "light"
     },
     "output_type": "display_data"
    }
   ],
   "source": [
    "plt.hist(perm_scores[:,best])\n",
    "plt.show()"
   ]
  },
  {
   "cell_type": "markdown",
   "metadata": {},
   "source": [
    "Avec seulement 100 permutations, l'histogramme des scores de précision est relativement loin de la distribution réelle des scores de précisions possibles. Avec un nombre infini de permutations, l'histogramme convergerai vers une gaussienne centrée sur le niveau de chance. Cependant, on remarque que notre score est bien supérieur aux 100 scores de permutations:"
   ]
  },
  {
   "cell_type": "code",
   "execution_count": 25,
   "metadata": {},
   "outputs": [
    {
     "name": "stdout",
     "output_type": "stream",
     "text": [
      "True\n"
     ]
    }
   ],
   "source": [
    "print(scores_elec[best] > max(perm_scores[:,best]))"
   ]
  },
  {
   "cell_type": "markdown",
   "metadata": {},
   "source": [
    "On peut donc affirmer que notre résultat est significatif à p=0.01.\n",
    "\n",
    "Afin de le confirmer et renforcer encore notre résultat, il convient de vérifier que notre score est le meilleur de toutes les permutations à travers toutes les électrodes. C'est ce que l'on appelle la correction par le maximum statistique.\n",
    "\n",
    "Il existe d'autres méthodes de correction de pvalues comme la méthode de [bonferroni](https://www.itl.nist.gov/div898/handbook/prc/section4/prc473.htm), qui est plus stricte."
   ]
  },
  {
   "cell_type": "code",
   "execution_count": 26,
   "metadata": {
    "scrolled": false
   },
   "outputs": [
    {
     "data": {
      "image/png": "[encoded data removed]",
      "text/plain": [
       "<Figure size 432x288 with 1 Axes>"
      ]
     },
     "metadata": {
      "needs_background": "light"
     },
     "output_type": "display_data"
    },
    {
     "name": "stdout",
     "output_type": "stream",
     "text": [
      "True\n"
     ]
    }
   ],
   "source": [
    "# ravel sert à applatir une matrice. Ici, on l'utilise pour se débarasser de la dimension \"electrode\" \n",
    "# de notre matrice de résultats. Ce faisant, on compare notre score à la distribution de tous les scores\n",
    "# de permutation à travers toutes les électrodes.\n",
    "plt.hist(perm_scores.ravel())\n",
    "plt.show()\n",
    "print(scores_elec[best] > max(perm_scores.ravel()))"
   ]
  },
  {
   "cell_type": "markdown",
   "metadata": {},
   "source": [
    "Notre résultat est significatif à p=0.01 avec correction par le maximum statistique.\n",
    "\n",
    "Nous allons maintenant créer un masque de tous nos résultats significatifs à p=0.01 et les afficher à travers un masque sur notre topomap des decoding accuracies."
   ]
  },
  {
   "cell_type": "code",
   "execution_count": 27,
   "metadata": {
    "scrolled": true
   },
   "outputs": [
    {
     "data": {
      "image/png": "[encoded data removed]",
      "text/plain": [
       "<Figure size 432x288 with 2 Axes>"
      ]
     },
     "metadata": {
      "needs_background": "light"
     },
     "output_type": "display_data"
    }
   ],
   "source": [
    "# création du masque\n",
    "mask_params = dict(\n",
    "    marker=\"*\", markerfacecolor=\"white\", markersize=9, markeredgecolor=\"white\"\n",
    ")\n",
    "tt_mask = np.full((len(X)), False, dtype=bool)\n",
    "tt_mask[scores_elec > max(perm_scores.ravel())] = True\n",
    "\n",
    "# Création et affichage de la nouvelle topomap:\n",
    "fig, ax = plt.subplots()\n",
    "im, cn = plot_topomap(\n",
    "    scores_elec,\n",
    "    info,\n",
    "    res=128,\n",
    "    cmap=\"viridis\",\n",
    "    vmax=.85,\n",
    "    vmin=.50,\n",
    "    show=False,\n",
    "    show_names=False,\n",
    "    mask=tt_mask, # On ajoute simplement ces deux lignes pour y inclure le masque\n",
    "    mask_params=mask_params, # deuxieme ligne ajoutee au code topomap précédent\n",
    "    contours=1,\n",
    "    extrapolate=\"head\",\n",
    ")\n",
    "cb = fig.colorbar(im)"
   ]
  },
  {
   "cell_type": "markdown",
   "metadata": {},
   "source": [
    "On voit que notre seul résultat significatif à p=0.01 est notre meilleur résultat."
   ]
  },
  {
   "cell_type": "markdown",
   "metadata": {},
   "source": [
    "## Conclusion\n",
    "\n",
    "Afin d'améliorer encore nos résultats, il serait intéressant d'effectuer une optimisation des hyper-paramètres, ce qui est en dehors de la portée de ce tutoriel. Pour rester concis, cela demanderai de refaire les étapes de classifications et d'évaluation de notre modèle pour différentes valeurs de K sur un sous jeu du set de donnée d'entrainement. Cela nous mènerai à utiliser une cross-validation à l'intérieur de notre cross-validation, ce que l'on appelle alors des [nested cross-validations](https://www.analyticsvidhya.com/blog/2021/03/a-step-by-step-guide-to-nested-cross-validation/).\n",
    "\n",
    "Dans un second temps, essayer d'autres modèles qui seraient potentiellement plus efficaces à décoder la différence entre stimulus \"droite\" vs stimulus \"gauche\" pourrait être intéressant.\n",
    "\n",
    "Il serait aussi intéressant d'explorer l'impact de chacune des bandes de fréquences utilisées dans notre classification. En effet, jusque maintenant, nous avons utilisé les quatre bandes sans se soucier de la contribution de chacune d'entre elles. C'est ce que l'on appelle une approche \"multi-feature\". Nous pourrions effectuer la classification sur chaque bande de fréquence individuellement et conclure de l'importance de chaque bande de fréquence pour la classification stimulus visuel droite vs stimulus visuel gauche.\n",
    "\n",
    "Nous pourions aussi utiliser d'autres caractéristiques du signal, d'autre combinaisons de ces caractéristiques, augmenter le nombre de données et utiliser les données de plusieurs sujets afin a'avoir un résultat plus robuste et généralisable... Les possibilités ne manquent pas en recherche. Juste le temps et les cerveaux :)"
   ]
  }
 ],
 "metadata": {
  "kernelspec": {
   "display_name": "Python 3",
   "language": "python",
   "name": "python3"
  },
  "language_info": {
   "codemirror_mode": {
    "name": "ipython",
    "version": 3
   },
   "file_extension": ".py",
   "mimetype": "text/x-python",
   "name": "python",
   "nbconvert_exporter": "python",
   "pygments_lexer": "ipython3",
   "version": "3.7.6"
  }
 },
 "nbformat": 4,
 "nbformat_minor": 4
}
